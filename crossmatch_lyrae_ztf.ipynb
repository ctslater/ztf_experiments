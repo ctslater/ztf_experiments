{
 "cells": [
  {
   "cell_type": "code",
   "execution_count": 1,
   "metadata": {},
   "outputs": [],
   "source": [
    "import axs\n",
    "import numpy as np\n",
    "from astropy.io import fits\n",
    "import matplotlib\n",
    "import matplotlib.pyplot as plt\n",
    "\n",
    "import os\n",
    "from pyspark.sql.functions import size as spark_size\n",
    "from matplotlib.backends.backend_pdf import PdfPages\n",
    "from pyspark.sql.functions import min as spark_min\n",
    "from pyspark.sql.functions import max as spark_max\n",
    "\n",
    "matplotlib.rcParams['figure.dpi'] = 120"
   ]
  },
  {
   "cell_type": "code",
   "execution_count": 2,
   "metadata": {},
   "outputs": [],
   "source": [
    "def spark_start(project_path, metastore=None):\n",
    "    from pyspark.sql import SparkSession\n",
    "\n",
    "    warehouse_location = os.path.join(project_path, 'spark-warehouse')\n",
    "\n",
    "    local_dir = os.path.join(project_path, 'spark-tmp')\n",
    "\n",
    "    spark = ( \n",
    "            SparkSession.builder\n",
    "            .appName(\"LSD2\")\n",
    "            .config(\"spark.sql.warehouse.dir\", warehouse_location)\n",
    "            .config('spark.master', \"local[4]\")\n",
    "            .config('spark.driver.memory', '6G') # 128\n",
    "            .config('spark.local.dir', local_dir)\n",
    "            .config('spark.memory.offHeap.enabled', 'true')\n",
    "            .config('spark.memory.offHeap.size', '4G') # 256\n",
    "            .config(\"spark.sql.execution.arrow.enabled\", \"true\")\n",
    "            .config(\"spark.driver.maxResultSize\", \"6G\")\n",
    "            .config(\"spark.driver.extraJavaOptions\", f\"-Dderby.system.home={metastore}\")\n",
    "            .enableHiveSupport()\n",
    "            .getOrCreate()\n",
    "                    )   \n",
    "\n",
    "    return spark\n",
    "\n",
    "spark_session = spark_start(\"/epyc/users/ctslater\")\n",
    "\n",
    "catalog = axs.AxsCatalog(spark_session)"
   ]
  },
  {
   "cell_type": "code",
   "execution_count": 3,
   "metadata": {},
   "outputs": [],
   "source": [
    "ztf = catalog.load(\"ztf_1am_lc\")"
   ]
  },
  {
   "cell_type": "code",
   "execution_count": 4,
   "metadata": {},
   "outputs": [],
   "source": [
    "sesar_axs = catalog.load(\"sesar_rrlyrae\")"
   ]
  },
  {
   "cell_type": "code",
   "execution_count": null,
   "metadata": {},
   "outputs": [],
   "source": [
    "%%time\n",
    "matched = sesar_axs.crossmatch(ztf).drop(\"axsdist\")\n",
    "matched_filtered = (matched.select(\"ra\", \"dec\", \"matchid\", \"Per\", \"weightedmeanmag\", \"filterid\", \"mjd\", \"psfflux\")\n",
    "                    .where((spark_size(matched['mjd']) > 5) &\n",
    "                           ((matched['S3ab'] > 0.8) | (matched['S3c'] > 0.8))\n",
    "                            ))"
   ]
  },
  {
   "cell_type": "code",
   "execution_count": 5,
   "metadata": {
    "scrolled": true
   },
   "outputs": [
    {
     "name": "stdout",
     "output_type": "stream",
     "text": [
      "CPU times: user 40.2 ms, sys: 18 ms, total: 58.2 ms\n",
      "Wall time: 1min 32s\n"
     ]
    }
   ],
   "source": [
    "results = matched_filtered.head(200)"
   ]
  },
  {
   "cell_type": "code",
   "execution_count": 10,
   "metadata": {},
   "outputs": [
    {
     "data": {
      "text/plain": [
       "Row(ra=265.75893, dec=19.82638, matchid='0005871103101088', Per=0.57479179, weightedmeanmag=15.913511276245117, filterid=[1, 1, 1, 1, 1, 1, 1, 1, 1, 1, 1, 1, 1, 1, 1, 1, 1, 1, 1, 1, 1, 1, 1, 1, 1, 1, 1, 1, 1, 1, 1, 1, 1, 1, 1, 1, 1, 1, 1, 1, 1, 1, 1, 1, 1, 1, 1, 1, 1, 1, 1, 1, 1, 1, 1, 1, 1, 1, 1, 1, 1, 1, 1, 1, 1, 1, 1, 1, 1, 1, 1, 1, 1, 1, 1, 1, 1, 1, 1, 1, 1, 1, 1, 1, 1, 1, 1, 1, 1, 1, 1, 1, 1, 1, 1, 1, 1, 1, 1, 1, 1, 1, 1, 1, 1, 1, 1, 1, 1, 1, 1, 1, 1, 1, 1, 1, 1, 1, 1, 1, 1, 1, 1, 1, 1, 1, 1, 1, 1, 1, 1, 1, 1, 1, 1, 1, 1, 1, 1, 1, 1, 1, 1, 1, 1, 1, 1, 1, 1, 1, 1, 1, 1], mjd=[58287.248669, 58307.316331, 58290.2340625, 58290.4033102, 58308.2273495, 58311.3370023, 58308.2084838, 58292.215706, 58287.3373148, 58307.2334028, 58286.4210417, 58303.4062269, 58306.2952083, 58276.3783333, 58312.3361806, 58288.3723495, 58310.3515509, 58234.3367477, 58312.3602662, 58288.379294, 58308.3797685, 58204.4697338, 58205.5278935, 58206.5105324, 58207.4672222, 58237.3199306, 58292.416331, 58207.4278588, 58236.4809375, 58230.481956, 58306.3161458, 58311.2509491, 58310.3259375, 58303.2856134, 58302.2083449, 58249.3953241, 58278.356956, 58292.3540972, 58305.2118287, 58289.3985995, 58207.5294792, 58258.3586806, 58254.4204398, 58280.3992014, 58305.3141898, 58278.3941667, 58280.2894097, 58274.3803125, 58254.3982407, 58274.2916782, 58276.3374884, 58255.3776736, 58279.3592361, 58258.4627315, 58291.3506829, 58283.2893634, 58261.421794, 58286.4076273, 58283.4146991, 58277.3161574, 58307.3505093, 58277.3368634, 58249.3584722, 58208.4500694, 58209.5130556, 58302.212662, 58235.4802431, 58255.3589468, 58204.4235301, 58284.3601157, 58252.4568866, 58275.2739699, 58277.3555556, 58262.436169, 58204.5323032, 58282.3598264, 58234.4183681, 58282.3792014, 58281.2737037, 58274.4096412, 58280.4357986, 58255.3976736, 58286.2691898, 58283.3114005, 58236.3998727, 58278.3971528, 58261.4429745, 58285.4335648, 58262.4040509, 58258.3377083, 58259.4159838, 58231.4581944, 58237.4395255, 58230.3759954, 58281.3814352, 58279.3380324, 58247.3622454, 58204.4902894, 58235.419294, 58236.4191435, 58247.3784375, 58205.4903125, 58205.5084259, 58235.3800231, 58276.3568403, 58206.4638426, 58227.3553125, 58208.4266551, 58203.503669, 58232.4394097, 58236.3078125, 58206.4231829, 58236.4610532, 58205.4287963, 58285.2897917, 58231.4792014, 58232.4591551, 58312.3253472, 58291.434919, 58290.2121528, 58304.3126505, 58304.2280903, 58209.5232407, 58209.4865856, 58204.4437616, 58206.4454745, 58207.5041088, 58237.3566667, 58235.4001505, 58230.3999769, 58231.3974074, 58205.4408218, 58289.3791204, 58305.2955093, 58206.491088, 58204.5057639, 58252.4192824, 58234.4387616, 58235.4386227, 58208.5087037, 58207.4872801, 58207.4452431, 58208.4649074, 58232.4811458, 58237.4594792, 58247.3373958, 58203.4238773, 58209.4665394, 58236.3765741, 58208.4886458, 58284.3766088, 58205.4701505, 58231.4202083], psfflux=[14120.375, 13141.193359375, 11657.7236328125, 10456.6455078125, 9509.8076171875, 11455.40625, 9405.224609375, 15873.1533203125, 12841.94921875, 16183.25390625, 11593.451171875, 11841.771484375, 10592.416015625, 12936.9580078125, 13397.9375, 15327.0419921875, 9958.2265625, 8704.6357421875, 16168.3505859375, 14556.294921875, 13621.9921875, 14799.712890625, 17373.0078125, 9413.8955078125, 12162.4619140625, 9848.71484375, 13965.115234375, 12526.412109375, 16993.0859375, 8282.05078125, 10284.6357421875, 16198.1708984375, 10485.591796875, 15172.4912109375, 13596.9130859375, 12331.728515625, 10670.7890625, 16257.9755859375, 9812.4794921875, 18909.72265625, 11984.470703125, 18770.8671875, 16079.2197265625, 13546.89453125, 10514.619140625, 13811.5625, 15975.8544921875, 15843.931640625, 16914.986328125, 10710.193359375, 14198.6513671875, 10809.33984375, 11765.6376953125, 14623.5068359375, 12619.087890625, 13262.8330078125, 12759.3876953125, 10959.7822265625, 11657.7236328125, 17958.873046875, 12514.875, 17777.794921875, 12665.6826171875, 9875.9794921875, 19529.396484375, 13238.4150390625, 15270.66015625, 10437.392578125, 15713.0986328125, 10829.2783203125, 10651.1416015625, 12241.162109375, 17293.1640625, 16914.986328125, 13634.548828125, 9474.818359375, 10087.529296875, 9615.5517578125, 14772.466796875, 17582.333984375, 12665.6826171875, 12422.96484375, 12309.0244140625, 12735.896484375, 10265.69921875, 14264.2119140625, 12207.37109375, 16852.765625, 18719.05859375, 18175.255859375, 4646.57470703125, 15074.953125, 11722.353515625, 4511.47900390625, 17925.814453125, 12006.576171875, 14120.375, 14489.3916015625, 17213.685546875, 11225.5234375, 16034.8388671875, 19314.68359375, 18428.16796875, 18208.77734375, 13447.4072265625, 10959.7822265625, 16744.4296875, 11625.54296875, 11646.9873046875, 13422.6494140625, 9848.71484375, 11235.8720703125, 15858.5361328125, 3207.180908203125, 807.8305053710938, 14382.9853515625, 17909.306640625, 14042.53125, 11329.4384765625, 11863.6142578125, 17794.1796875, 10162.16796875, 18822.818359375, 19601.49609375, 15270.66015625, 11051.0498046875, 11863.6142578125, 11765.6376953125, 17826.998046875, 12140.0693359375, 16775.310546875, 13129.0908203125, 18564.490234375, 10720.06640625, 10256.2431640625, 13798.8427734375, 11266.974609375, 10680.626953125, 16545.076171875, 11962.4052734375, 11863.6142578125, 12526.412109375, 9466.0908203125, 19067.166015625, 11122.5615234375, 11081.6416015625, 5243.07470703125, 17647.248046875, 10106.13671875, 12700.7412109375, 12445.87890625, 19014.5390625, 15917.0869140625])"
      ]
     },
     "execution_count": 10,
     "metadata": {},
     "output_type": "execute_result"
    }
   ],
   "source": [
    "results[0]"
   ]
  },
  {
   "cell_type": "code",
   "execution_count": 11,
   "metadata": {},
   "outputs": [],
   "source": [
    "import cesium\n",
    "from cesium.time_series import TimeSeries\n",
    "from cesium.featurize import featurize_single_ts, featurize_time_series"
   ]
  },
  {
   "cell_type": "code",
   "execution_count": 12,
   "metadata": {},
   "outputs": [],
   "source": [
    "result = results[0]"
   ]
  },
  {
   "cell_type": "code",
   "execution_count": 19,
   "metadata": {},
   "outputs": [
    {
     "name": "stdout",
     "output_type": "stream",
     "text": [
      "CPU times: user 1.36 s, sys: 145 ms, total: 1.5 s\n",
      "Wall time: 51.6 ms\n"
     ]
    }
   ],
   "source": [
    "%%time\n",
    "result = results[0]\n",
    "\n",
    "features_to_use = [\"amplitude\",\n",
    "                   \"percent_beyond_1_std\",\n",
    "                   \"maximum\",\n",
    "                   \"max_slope\",\n",
    "                   \"median\",\n",
    "                   \"median_absolute_deviation\",\n",
    "                   \"percent_close_to_median\",\n",
    "                   \"minimum\",\n",
    "                   \"skew\",\n",
    "                   \"std\",\n",
    "                   \"weighted_average\"]\n",
    "\n",
    "ls_features = [\"freq1_amplitude1\",\n",
    "                \"freq1_amplitude2\",\n",
    "                \"freq1_amplitude3\",\n",
    "                \"freq1_amplitude4\",\n",
    "                \"freq1_freq\",\n",
    "                \"freq1_lambda\",\n",
    "                \"freq1_rel_phase2\",\n",
    "                \"freq1_rel_phase3\",\n",
    "                \"freq1_rel_phase4\",\n",
    "                \"freq1_signif\",\n",
    "                \"freq2_amplitude1\",\n",
    "                \"freq2_amplitude2\",\n",
    "                \"freq2_amplitude3\",\n",
    "                \"freq2_amplitude4\",\n",
    "                \"freq2_freq\",\n",
    "                \"freq2_rel_phase2\",\n",
    "                \"freq2_rel_phase3\",\n",
    "                \"freq2_rel_phase4\"]\n",
    "\n",
    "ts = TimeSeries(t=np.array(result['mjd']), m=np.array(result['psfflux']))\n",
    "feat_out = featurize_single_ts(ts, features_to_use + ls_features)"
   ]
  },
  {
   "cell_type": "code",
   "execution_count": 21,
   "metadata": {},
   "outputs": [
    {
     "data": {
      "text/plain": [
       "channel\n",
       "0    0.574923\n",
       "dtype: float64"
      ]
     },
     "execution_count": 21,
     "metadata": {},
     "output_type": "execute_result"
    }
   ],
   "source": [
    "1/feat_out['freq1_freq']"
   ]
  },
  {
   "cell_type": "code",
   "execution_count": 22,
   "metadata": {},
   "outputs": [
    {
     "data": {
      "text/plain": [
       "0.57479179"
      ]
     },
     "execution_count": 22,
     "metadata": {},
     "output_type": "execute_result"
    }
   ],
   "source": [
    "result['Per']"
   ]
  },
  {
   "cell_type": "code",
   "execution_count": 20,
   "metadata": {},
   "outputs": [
    {
     "data": {
      "text/plain": [
       "feature                    channel\n",
       "amplitude                  0            9396.832794\n",
       "percent_beyond_1_std       0               0.307190\n",
       "maximum                    0           19601.496094\n",
       "max_slope                  0          825072.546836\n",
       "median                     0           12735.896484\n",
       "median_absolute_deviation  0            2143.480469\n",
       "percent_close_to_median    0               0.431373\n",
       "minimum                    0             807.830505\n",
       "skew                       0              -0.375430\n",
       "std                        0            3359.907709\n",
       "weighted_average           0           13263.989591\n",
       "freq1_amplitude1           0            3022.199473\n",
       "freq1_amplitude2           0            1063.568925\n",
       "freq1_amplitude3           0             230.753765\n",
       "freq1_amplitude4           0              16.869063\n",
       "freq1_freq                 0               1.739364\n",
       "freq1_lambda               0               7.425334\n",
       "freq1_rel_phase2           0              -0.952610\n",
       "freq1_rel_phase3           0              -1.643048\n",
       "freq1_rel_phase4           0               2.473324\n",
       "freq1_signif               0               7.547384\n",
       "freq2_amplitude1           0             892.550622\n",
       "freq2_amplitude2           0              59.022117\n",
       "freq2_amplitude3           0               3.508887\n",
       "freq2_amplitude4           0               2.409814\n",
       "freq2_freq                 0               1.353818\n",
       "freq2_rel_phase2           0               1.866372\n",
       "freq2_rel_phase3           0               1.857011\n",
       "freq2_rel_phase4           0               3.126963\n",
       "dtype: float64"
      ]
     },
     "execution_count": 20,
     "metadata": {},
     "output_type": "execute_result"
    }
   ],
   "source": [
    "feat_out"
   ]
  },
  {
   "cell_type": "code",
   "execution_count": 23,
   "metadata": {},
   "outputs": [
    {
     "name": "stdout",
     "output_type": "stream",
     "text": [
      "CPU times: user 92.3 ms, sys: 36.8 ms, total: 129 ms\n",
      "Wall time: 13min 13s\n"
     ]
    },
    {
     "data": {
      "text/plain": [
       "109850351"
      ]
     },
     "execution_count": 23,
     "metadata": {},
     "output_type": "execute_result"
    }
   ],
   "source": [
    "%%time\n",
    "\n",
    "ztf.where(spark_size(matched['mjd']) > 10).count()"
   ]
  },
  {
   "cell_type": "code",
   "execution_count": 33,
   "metadata": {},
   "outputs": [
    {
     "name": "stdout",
     "output_type": "stream",
     "text": [
      "CPU times: user 284 ms, sys: 1.58 s, total: 1.87 s\n",
      "Wall time: 74.2 ms\n"
     ]
    }
   ],
   "source": [
    "%%time\n",
    "ts = TimeSeries(t=np.array(result['mjd']), m=np.array(result['psfflux']))\n",
    "feat_out = featurize_single_ts(ts, features_to_use + ls_features)"
   ]
  },
  {
   "cell_type": "code",
   "execution_count": 32,
   "metadata": {},
   "outputs": [
    {
     "name": "stderr",
     "output_type": "stream",
     "text": [
      "/epyc/opt/anaconda/lib/python3.6/site-packages/cesium/features/common_functions.py:7: RuntimeWarning: invalid value encountered in true_divide\n",
      "  slopes = np.diff(x) / np.diff(t)\n"
     ]
    },
    {
     "name": "stdout",
     "output_type": "stream",
     "text": [
      "CPU times: user 1min 2s, sys: 3min 25s, total: 4min 27s\n",
      "Wall time: 3.37 s\n"
     ]
    }
   ],
   "source": [
    "%%time\n",
    "feat_out2 = featurize_time_series([np.array(res['mjd']) for res in results[:20]],\n",
    "                                  [np.array(res['psfflux']) for res in results[:20]],\n",
    "                                  features_to_use=features_to_use + ls_features\n",
    "                                  )"
   ]
  },
  {
   "cell_type": "code",
   "execution_count": null,
   "metadata": {},
   "outputs": [],
   "source": [
    "matched_filtered.foreach().head(5)"
   ]
  },
  {
   "cell_type": "markdown",
   "metadata": {},
   "source": [
    "Big book of lightcurves\n",
    "---------"
   ]
  },
  {
   "cell_type": "code",
   "execution_count": 54,
   "metadata": {
    "scrolled": false
   },
   "outputs": [],
   "source": [
    "%%capture\n",
    "# Supress all output from this. This is a hack.\n",
    "\n",
    "\n",
    "figures = []\n",
    "for n in range(len(results)//4):\n",
    "\n",
    "    fig, axes = plt.subplots(2, 2)\n",
    "    for m, ax in enumerate(axes.flatten()):\n",
    "        result_id = 4*n + m\n",
    "        this_source = results[result_id]\n",
    "\n",
    "        sel, = np.where(np.array(this_source['filterid']) == 1)\n",
    "        if(len(sel) > 0):\n",
    "            ax.plot(np.array(this_source['mjd'])[sel]/this_source[\"Per\"] % 1,\n",
    "                     np.array(this_source['psfflux'])[sel], '.')\n",
    "\n",
    "        sel, = np.where(np.array(this_source['filterid']) == 2)\n",
    "        if(len(sel) > 0):\n",
    "            ax.plot(np.array(this_source['mjd'])[sel]/this_source[\"Per\"] % 1,\n",
    "                     np.array(this_source['psfflux'])[sel], '.')\n",
    "\n",
    "\n",
    "        flux_std = np.std(this_source['psfflux'])\n",
    "        flux_mean = np.mean(this_source['psfflux'])\n",
    "        ax.set_ylim(flux_mean - 3*flux_std, flux_mean + 3*flux_std)\n",
    "        ax.set_xlim(0, 1)\n",
    "        ax.set_xlabel(\"Phase\")\n",
    "        ax.set_ylabel(\"Flux\")\n",
    "        ax.yaxis.set_ticklabels(\"\")\n",
    "        ax.xaxis.set_ticklabels([\"0\", \"\", \"\", \"\", \"\", \"1\"])\n",
    "\n",
    "        ax.text(0.85, 0.95, \"{:0.1f}\".format(this_source['weightedmeanmag']),\n",
    "                 fontsize=8, verticalalignment=\"top\",\n",
    "                 transform=ax.transAxes)\n",
    "        ax.text(0.05, 0.95, \"{:d}\".format(result_id),\n",
    "                 fontsize=8, verticalalignment=\"top\",\n",
    "                 transform=ax.transAxes)\n",
    "        \n",
    "    figures.append(fig)\n",
    "\n",
    "with PdfPages('ztf_lyrae.pdf') as pdf:            \n",
    "    for fig in figures:\n",
    "        pdf.savefig(fig);"
   ]
  },
  {
   "cell_type": "markdown",
   "metadata": {},
   "source": [
    "Cesium UDF\n",
    "======="
   ]
  },
  {
   "cell_type": "code",
   "execution_count": 8,
   "metadata": {},
   "outputs": [],
   "source": [
    "import pandas as pd"
   ]
  },
  {
   "cell_type": "code",
   "execution_count": 12,
   "metadata": {},
   "outputs": [],
   "source": [
    "\n",
    "from pyspark.sql.types import ArrayType, FloatType, DoubleType\n",
    "from pyspark.sql.functions import col, pandas_udf, explode\n",
    "\n",
    "#np.array(res['mjd']) for res in results[:20]],\n",
    "#[np.array(res['psfflux']) for res in results[:20]],\n",
    "\n",
    "features_to_use = [\"amplitude\",\n",
    "                   \"percent_beyond_1_std\",\n",
    "                   \"maximum\",\n",
    "                   \"max_slope\",\n",
    "                   \"median\",\n",
    "                   \"median_absolute_deviation\",\n",
    "                   \"percent_close_to_median\",\n",
    "                   \"minimum\",\n",
    "                   \"skew\",\n",
    "                   \"std\",\n",
    "                   \"weighted_average\"]\n",
    "\n",
    "ls_features = [\"freq1_amplitude1\",\n",
    "                \"freq1_amplitude2\",\n",
    "                \"freq1_amplitude3\",\n",
    "                \"freq1_amplitude4\",\n",
    "                \"freq1_freq\",\n",
    "                \"freq1_lambda\",\n",
    "                \"freq1_rel_phase2\",\n",
    "                \"freq1_rel_phase3\",\n",
    "                \"freq1_rel_phase4\",\n",
    "                \"freq1_signif\",\n",
    "                \"freq2_amplitude1\",\n",
    "                \"freq2_amplitude2\",\n",
    "                \"freq2_amplitude3\",\n",
    "                \"freq2_amplitude4\",\n",
    "                \"freq2_freq\",\n",
    "                \"freq2_rel_phase2\",\n",
    "                \"freq2_rel_phase3\",\n",
    "                \"freq2_rel_phase4\"]\n",
    "    \n",
    "def featurize_udf(mjd, psfflux):\n",
    "    feat_outs = []\n",
    "    \n",
    "    for row_mjd, row_psfflux in zip(mjd, psfflux):\n",
    "        mjd_arr = np.array(row_mjd)\n",
    "        \n",
    "        # If the time between the first and last observation is <0.06, \n",
    "        # cesium throws an error.\n",
    "        if(np.max(mjd_arr) - np.min(mjd_arr) < 0.10):\n",
    "            feat_outs.append(np.zeros(len(features_to_use) + len(ls_features)))\n",
    "        else:\n",
    "            feat_out = featurize_time_series(mjd_arr, np.array(row_psfflux),\n",
    "                                             features_to_use=features_to_use + ls_features)\n",
    "            feat_outs.append(feat_out.values.flatten())\n",
    "\n",
    "    return pd.Series(feat_outs)\n",
    "\n",
    "featurize_lc = pandas_udf(featurize_udf, returnType=ArrayType(DoubleType()))\n"
   ]
  },
  {
   "cell_type": "code",
   "execution_count": 14,
   "metadata": {
    "scrolled": true
   },
   "outputs": [
    {
     "name": "stdout",
     "output_type": "stream",
     "text": [
      "CPU times: user 50.9 ms, sys: 14 ms, total: 65 ms\n",
      "Wall time: 5min 46s\n"
     ]
    }
   ],
   "source": [
    "%%time\n",
    "\n",
    "feature_results = matched_filtered.select(\n",
    "    featurize_lc(matched_filtered['mjd'], matched_filtered['psfflux'])).head(1000)\n"
   ]
  },
  {
   "cell_type": "code",
   "execution_count": 15,
   "metadata": {},
   "outputs": [
    {
     "data": {
      "text/plain": [
       "Row(featurize_udf(mjd, psfflux)=[9396.832794189453, 0.30718954248366015, 19601.49609375, 825072.5468358505, 12735.896484375, 2143.48046875, 0.43137254901960786, 807.8305053710938, -0.37543006309128435, 3359.907708598801, 13263.989590912863, 3022.1994726892235, 1063.5689251811777, 230.7537648132592, 16.869063248696087, 1.7393636957614456, 7.425334084418403, -0.9526102393556031, -1.6430480738036535, 2.4733237980405356, 7.547383578188932, 892.550621721922, 59.02211695616729, 3.508887093596339, 2.409814231998434, 1.3538175947376925, 1.8663721976359344, 1.857010582095423, 3.1269629685411493])"
      ]
     },
     "execution_count": 15,
     "metadata": {},
     "output_type": "execute_result"
    }
   ],
   "source": [
    "feature_results[0]"
   ]
  },
  {
   "cell_type": "markdown",
   "metadata": {},
   "source": [
    "Handling Duplicates\n",
    "==========\n",
    "\n",
    "The following is an experiment"
   ]
  },
  {
   "cell_type": "code",
   "execution_count": 80,
   "metadata": {},
   "outputs": [
    {
     "data": {
      "text/plain": [
       "[(284.0499, 51.40418, '00079801032010593'),\n",
       " (284.0499, 51.40418, '0007980103107527'),\n",
       " (259.79441, 56.32541, '0007961001102429'),\n",
       " (259.79441, 56.32541, '0007961001205113')]"
      ]
     },
     "execution_count": 80,
     "metadata": {},
     "output_type": "execute_result"
    }
   ],
   "source": [
    "[(x['ra'], x['dec'], x['matchid']) for x in results[28:32]]"
   ]
  },
  {
   "cell_type": "code",
   "execution_count": null,
   "metadata": {},
   "outputs": [],
   "source": [
    "%%time\n",
    "1/0\n",
    "\n",
    "matched = sesar_axs.crossmatch(ztf).drop(\"axsdist\")\n",
    "renames = []\n",
    "for col in matched.columns:\n",
    "    if col in ('zone', 'ra', 'dec', 'dup'):\n",
    "        renames.append(col)\n",
    "    else:\n",
    "        renames.append(\"a_\" + col)\n",
    "                \n",
    "self_matched = matched.crossmatch(matched.toDF(*renames))\n",
    "self_matched.select(\"ra\", \"dec\", \"matchid\", \"a_matchid\").head(5)\n",
    "\n"
   ]
  }
 ],
 "metadata": {
  "kernelspec": {
   "display_name": "Python 3-AXS Spark",
   "language": "python",
   "name": "spark-smj"
  },
  "language_info": {
   "codemirror_mode": {
    "name": "ipython",
    "version": 3
   },
   "file_extension": ".py",
   "mimetype": "text/x-python",
   "name": "python",
   "nbconvert_exporter": "python",
   "pygments_lexer": "ipython3",
   "version": "3.6.4"
  }
 },
 "nbformat": 4,
 "nbformat_minor": 2
}
